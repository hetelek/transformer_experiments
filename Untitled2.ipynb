{
 "cells": [
  {
   "cell_type": "code",
   "execution_count": 1,
   "metadata": {},
   "outputs": [],
   "source": [
    "import torch\n",
    "import torch.nn as nn\n",
    "from torch.nn import TransformerEncoder, TransformerEncoderLayer\n",
    "import io\n",
    "import math"
   ]
  },
  {
   "cell_type": "code",
   "execution_count": 64,
   "metadata": {},
   "outputs": [],
   "source": [
    "EMBEDDING_SIZE = 10\n",
    "input_text = 'text.txt'\n",
    "\n",
    "char_to_token = {}\n",
    "token_to_char = {}\n",
    "def load_char_to_token():\n",
    "    global char_to_token\n",
    "    with io.open(input_text, 'r', encoding='utf-8') as f:\n",
    "        while True:\n",
    "            c = f.read(1)\n",
    "            if not c:\n",
    "                break\n",
    "            \n",
    "            if c not in char_to_token:\n",
    "                next_token = len(char_to_token)\n",
    "                char_to_token[c] = next_token\n",
    "                token_to_char[next_token] = c\n",
    "load_char_to_token()\n",
    "\n",
    "def tokens_from_file(path):\n",
    "    tokens = []\n",
    "    with io.open(input_text, 'r', encoding='utf-8') as f:\n",
    "        tokens = [[char_to_token[c] for c in f.read()]]\n",
    "    return torch.LongTensor(tokens)\n",
    "\n",
    "def tokens_to_string(tokens):\n",
    "    if isinstance(tokens, torch.Tensor):\n",
    "        return ''.join([token_to_char[t.item()] for t in tokens.squeeze(0)])\n",
    "    else:\n",
    "        return ''.join([token_to_char[t] for t in tokens])\n",
    "\n",
    "_embedding = nn.Embedding(len(char_to_token), EMBEDDING_SIZE)\n",
    "_embedding.weight.data.uniform_(-0.1, 0.1)\n",
    "\n",
    "def get_embedding_from_str(in_str):\n",
    "    tokens = [[char_to_token[c]] for c in in_str]\n",
    "    return _embedding(torch.LongTensor(tokens))\n",
    "\n",
    "def get_embedding(tensor):\n",
    "    return _embedding(tensor)"
   ]
  },
  {
   "cell_type": "code",
   "execution_count": 77,
   "metadata": {},
   "outputs": [],
   "source": [
    "# data tests\n",
    "file_tokens = tokens_from_file(input_text)\n",
    "assert torch.all(torch.eq(file_tokens[0, :10], torch.Tensor([[0, 0, 0, 0, 1, 2, 3, 4, 5, 6]])))\n",
    "assert tokens_to_string([1, 2, 3, 4, 23]) == '™😀Thf'\n",
    "assert tokens_to_string(file_tokens).startswith('\\x00\\x00\\x00\\x00™😀This ™is a tutorial on how to train a seq')"
   ]
  },
  {
   "cell_type": "code",
   "execution_count": 66,
   "metadata": {},
   "outputs": [],
   "source": [
    "class PositionalEncoding(nn.Module):\n",
    "    def __init__(self, d_model, dropout=0.1, max_len=5000):\n",
    "        super(PositionalEncoding, self).__init__()\n",
    "        self.dropout = nn.Dropout(p=dropout)\n",
    "\n",
    "        pe = torch.zeros(max_len, d_model)\n",
    "        position = torch.arange(0, max_len, dtype=torch.float).unsqueeze(1)\n",
    "        div_term = torch.exp(torch.arange(0, d_model, 2).float() * (-math.log(10000.0) / d_model))\n",
    "        pe[:, 0::2] = torch.sin(position * div_term)\n",
    "        pe[:, 1::2] = torch.cos(position * div_term)\n",
    "        pe = pe.unsqueeze(0).transpose(0, 1)\n",
    "        self.register_buffer('pe', pe)\n",
    "\n",
    "    def forward(self, x):\n",
    "        x = x + self.pe[:x.size(0), :]\n",
    "        return self.dropout(x)"
   ]
  },
  {
   "cell_type": "code",
   "execution_count": 78,
   "metadata": {},
   "outputs": [
    {
     "name": "stdout",
     "output_type": "stream",
     "text": [
      "torch.Size([1, 750, 10])\n",
      "tensor([[[-0.1949,  1.1909, -0.2304,  ...,  0.9253, -0.1482,  1.4484],\n",
      "         [-0.1949,  1.1909, -0.2304,  ...,  0.9253, -0.1482,  1.4484],\n",
      "         [-0.1949,  1.1909, -0.2304,  ...,  0.0000, -0.1482,  1.4484],\n",
      "         ...,\n",
      "         [ 0.1389,  1.0535, -0.2661,  ...,  1.3609, -0.0802,  1.3236],\n",
      "         [ 0.1602,  0.8736,  0.1491,  ...,  0.8668, -0.1125,  0.8443],\n",
      "         [ 0.0806,  0.9419, -0.0438,  ...,  1.1866, -0.1275,  1.0514]]],\n",
      "       grad_fn=<MulBackward0>)\n",
      "torch.Size([1, 750, 10])\n"
     ]
    }
   ],
   "source": [
    "# input_x = get_embedding_from_str('    ')\n",
    "input_x = get_embedding(tokens_from_file(input_text))\n",
    "print(input_x.size())\n",
    "input_embedding = input_x * math.sqrt(EMBEDDING_SIZE)\n",
    "pe = PositionalEncoding(EMBEDDING_SIZE)\n",
    "positional_embedding = pe(input_embedding)\n",
    "\n",
    "print(positional_embedding)\n",
    "print(positional_embedding.size())"
   ]
  },
  {
   "cell_type": "code",
   "execution_count": 68,
   "metadata": {},
   "outputs": [
    {
     "data": {
      "text/plain": [
       "tensor([[0.]])"
      ]
     },
     "execution_count": 68,
     "metadata": {},
     "output_type": "execute_result"
    }
   ],
   "source": [
    "sz = 1\n",
    "src_mask = (torch.triu(torch.ones(sz, sz)) == 1).transpose(0, 1)\n",
    "src_mask = src_mask.float().masked_fill(src_mask == 0, float('-inf')).masked_fill(src_mask == 1, float(0.0))\n",
    "src_mask"
   ]
  },
  {
   "cell_type": "code",
   "execution_count": 69,
   "metadata": {},
   "outputs": [
    {
     "name": "stdout",
     "output_type": "stream",
     "text": [
      "torch.Size([1, 750, 10])\n",
      "52\n"
     ]
    }
   ],
   "source": [
    "print(positional_embedding.size())\n",
    "print(len(char_to_token))"
   ]
  },
  {
   "cell_type": "code",
   "execution_count": 81,
   "metadata": {
    "scrolled": false
   },
   "outputs": [
    {
     "name": "stdout",
     "output_type": "stream",
     "text": [
      "torch.Size([1, 750, 10])\n",
      "tensor([[[-0.1949,  1.1909, -0.2304,  ...,  0.9253, -0.1482,  1.4484],\n",
      "         [-0.1949,  1.1909, -0.2304,  ...,  0.9253, -0.1482,  1.4484],\n",
      "         [-0.1949,  1.1909, -0.2304,  ...,  0.0000, -0.1482,  1.4484],\n",
      "         ...,\n",
      "         [ 0.1389,  1.0535, -0.2661,  ...,  1.3609, -0.0802,  1.3236],\n",
      "         [ 0.1602,  0.8736,  0.1491,  ...,  0.8668, -0.1125,  0.8443],\n",
      "         [ 0.0806,  0.9419, -0.0438,  ...,  1.1866, -0.1275,  1.0514]]],\n",
      "       grad_fn=<MulBackward0>)\n",
      "tensor([[0.]])\n",
      "torch.Size([1, 750, 52])\n",
      "tensor([[[-0.0323, -0.4526,  0.0542,  ..., -0.3076, -0.1768,  0.0546],\n",
      "         [-0.0323, -0.4526,  0.0542,  ..., -0.3076, -0.1768,  0.0546],\n",
      "         [-0.0081, -0.4962,  0.0759,  ..., -0.3246, -0.0832,  0.0797],\n",
      "         ...,\n",
      "         [-0.1407, -0.2948,  0.0854,  ..., -0.2437, -0.1665, -0.0794],\n",
      "         [-0.0018, -0.3777,  0.0196,  ..., -0.3223, -0.2252,  0.0054],\n",
      "         [-0.0429, -0.3262,  0.0107,  ..., -0.2448, -0.1578,  0.0065]]],\n",
      "       grad_fn=<AddBackward0>)\n"
     ]
    }
   ],
   "source": [
    "nlayers = 1\n",
    "nhead = 10\n",
    "nhid = 1\n",
    "dropout = 0.0\n",
    "encoder_layers = TransformerEncoderLayer(EMBEDDING_SIZE, nhead, nhid, dropout)\n",
    "transformer_encoder = TransformerEncoder(encoder_layers, nlayers)\n",
    "\n",
    "print(positional_embedding.size())\n",
    "print(positional_embedding)\n",
    "print(src_mask)\n",
    "output = transformer_encoder(positional_embedding, src_mask)  # src_mask ?\n",
    "# print(positional_embedding)\n",
    "# print(output)\n",
    "decoder = nn.Linear(EMBEDDING_SIZE, len(char_to_token))\n",
    "decoder.bias.data.zero_()\n",
    "decoder.weight.data.uniform_(-0.1, 0.1)\n",
    "\n",
    "# why is this `torch.Size([1, 750, 52])` ? I want the output to be the next character `torch.Size([1, 1, 52])`\n",
    "output = decoder(output)\n",
    "\n",
    "print(output.size())\n",
    "print(output)"
   ]
  },
  {
   "cell_type": "code",
   "execution_count": 71,
   "metadata": {},
   "outputs": [
    {
     "data": {
      "text/plain": [
       "tensor([[[-0.1617,  1.7939, -0.2286,  ...,  1.9071, -0.7389, -0.3380],\n",
       "         [-0.5101, -0.0249,  1.5994,  ...,  0.8186, -1.7024, -1.3093],\n",
       "         [-1.3808,  0.8449, -0.9667,  ...,  2.4725, -0.2305, -0.2206],\n",
       "         ...,\n",
       "         [ 0.2462,  1.8954,  0.9202,  ...,  0.8838, -0.1812, -0.4680],\n",
       "         [ 0.2259, -0.7530,  1.1712,  ...,  0.1627, -1.8471, -0.9272],\n",
       "         [-0.1231,  0.8639, -0.8487,  ...,  2.3074, -0.4104, -0.1499]]],\n",
       "       grad_fn=<NativeLayerNormBackward>)"
      ]
     },
     "execution_count": 71,
     "metadata": {},
     "output_type": "execute_result"
    }
   ],
   "source": [
    "encoder_layer = nn.TransformerEncoderLayer(d_model=EMBEDDING_SIZE, nhead=10)\n",
    "transformer_encoder = nn.TransformerEncoder(encoder_layer, num_layers=6)\n",
    "src = torch.rand(1, 750, EMBEDDING_SIZE)\n",
    "transformer_encoder(src)"
   ]
  },
  {
   "cell_type": "code",
   "execution_count": null,
   "metadata": {},
   "outputs": [],
   "source": [
    "transformer_encoder.layers[0].self_attn.out_proj.weight"
   ]
  },
  {
   "cell_type": "code",
   "execution_count": null,
   "metadata": {},
   "outputs": [],
   "source": [
    "char_to_token['d']"
   ]
  },
  {
   "cell_type": "code",
   "execution_count": null,
   "metadata": {},
   "outputs": [],
   "source": [
    "a = torch.randn(10)"
   ]
  },
  {
   "cell_type": "code",
   "execution_count": null,
   "metadata": {},
   "outputs": [],
   "source": [
    "import torch.nn as nn"
   ]
  },
  {
   "cell_type": "code",
   "execution_count": null,
   "metadata": {},
   "outputs": [],
   "source": [
    "dictionary = 'abcdefghiklmnopqrstuvwxyz '\n",
    "def tokenize(s):\n",
    "    return [dictionary.index(c) for c in s]\n",
    "embed = nn.Embedding(len(dictionary), 3)\n",
    "embed(torch.LongTensor(tokenize('hello world')))"
   ]
  },
  {
   "cell_type": "code",
   "execution_count": null,
   "metadata": {},
   "outputs": [],
   "source": [
    "embed(torch.LongTensor([10]))"
   ]
  },
  {
   "cell_type": "code",
   "execution_count": null,
   "metadata": {
    "scrolled": true
   },
   "outputs": [],
   "source": [
    "embed.weight"
   ]
  },
  {
   "cell_type": "code",
   "execution_count": null,
   "metadata": {},
   "outputs": [],
   "source": [
    "torch.LongTensor([1, 2])"
   ]
  },
  {
   "cell_type": "code",
   "execution_count": null,
   "metadata": {},
   "outputs": [],
   "source": [
    "torch.LongTensor(1)"
   ]
  },
  {
   "cell_type": "code",
   "execution_count": null,
   "metadata": {},
   "outputs": [],
   "source": [
    "dictionary.index('z')"
   ]
  },
  {
   "cell_type": "code",
   "execution_count": null,
   "metadata": {},
   "outputs": [],
   "source": [
    "import math\n",
    "max_len = 8\n",
    "d_model = 4\n",
    "pe = torch.zeros(max_len, d_model)\n",
    "position = torch.arange(0, max_len, dtype=torch.float).unsqueeze(1)\n",
    "div_term = torch.exp(torch.arange(0, d_model, 2).float() * (-math.log(10000.0) / d_model))\n",
    "pe[:, 0::2] = torch.sin(position * div_term)\n",
    "pe[:, 1::2] = torch.cos(position * div_term)\n",
    "pe = pe.unsqueeze(0).transpose(0, 1)\n",
    "pe"
   ]
  },
  {
   "cell_type": "code",
   "execution_count": null,
   "metadata": {},
   "outputs": [],
   "source": []
  }
 ],
 "metadata": {
  "kernelspec": {
   "display_name": "Python 3",
   "language": "python",
   "name": "python3"
  },
  "language_info": {
   "codemirror_mode": {
    "name": "ipython",
    "version": 3
   },
   "file_extension": ".py",
   "mimetype": "text/x-python",
   "name": "python",
   "nbconvert_exporter": "python",
   "pygments_lexer": "ipython3",
   "version": "3.7.3"
  }
 },
 "nbformat": 4,
 "nbformat_minor": 2
}
