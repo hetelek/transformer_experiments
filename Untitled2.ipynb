{
 "cells": [
  {
   "cell_type": "code",
   "execution_count": 1,
   "metadata": {},
   "outputs": [],
   "source": [
    "import torch\n",
    "import torch.nn as nn\n",
    "from torch.nn import TransformerEncoder, TransformerEncoderLayer\n",
    "import io\n",
    "import math"
   ]
  },
  {
   "cell_type": "code",
   "execution_count": 2,
   "metadata": {},
   "outputs": [],
   "source": [
    "EMBEDDING_SIZE = 2\n",
    "input_text = 'text.txt'\n",
    "\n",
    "char_to_token = {}\n",
    "token_to_char = {}\n",
    "def load_char_to_token():\n",
    "    global char_to_token\n",
    "    with io.open(input_text, 'r', encoding='utf-8') as f:\n",
    "        while True:\n",
    "            c = f.read(1)\n",
    "            if not c:\n",
    "                break\n",
    "            \n",
    "            if c not in char_to_token:\n",
    "                next_token = len(char_to_token)\n",
    "                char_to_token[c] = next_token\n",
    "                token_to_char[next_token] = c\n",
    "load_char_to_token()\n",
    "\n",
    "def tokens_from_file(path):\n",
    "    tokens = []\n",
    "    with io.open(input_text, 'r', encoding='utf-8') as f:\n",
    "        tokens = [[char_to_token[c] for c in f.read()]]\n",
    "    return torch.LongTensor(tokens)\n",
    "\n",
    "def tokens_to_string(tokens):\n",
    "    if isinstance(tokens, torch.Tensor):\n",
    "        return ''.join([token_to_char[t.item()] for t in tokens.squeeze(0)])\n",
    "    else:\n",
    "        return ''.join([token_to_char[t] for t in tokens])\n",
    "\n",
    "_embedding = nn.Embedding(len(char_to_token), EMBEDDING_SIZE)\n",
    "def get_embedding_from_str(in_str):\n",
    "    tokens = [[char_to_token[c]] for c in in_str]\n",
    "    return _embedding(torch.LongTensor(tokens))\n",
    "\n",
    "def get_embedding(tensor):\n",
    "    return _embedding(tensor)"
   ]
  },
  {
   "cell_type": "code",
   "execution_count": 3,
   "metadata": {},
   "outputs": [
    {
     "data": {
      "text/plain": [
       "tensor([[ 0,  0,  0,  0,  1,  2,  3,  4,  5,  6,  7,  1,  5,  6,  7,  8,  7,  9,\n",
       "         10,  9, 11, 12,  5,  8, 13,  7, 11, 14,  7,  4, 11, 15,  7,  9, 11,  7,\n",
       "          9, 12,  8,  5, 14,  7,  8,  7,  6, 16, 17, 10, 16, 14, 18, 16, 19,  9,\n",
       "         11, 19,  6, 16, 17, 10, 16, 14, 18, 16,  7, 20, 11, 21, 16, 13,  7,  9,\n",
       "          4,  8,  9,  7, 10,  6, 16,  6,  7,  9,  4, 16,  7, 14, 14, 22,  3, 12,\n",
       "          8, 14,  6, 23, 11, 12, 20, 16, 12,  7, 20, 11, 21, 10, 13, 16, 22, 24,\n",
       "         24, 25, 26,  3, 11, 12, 18,  4,  7, 27, 22, 28,  7, 12, 16, 13, 16,  8,\n",
       "          6, 16,  7,  5, 14, 18, 13, 10, 21, 16,  6,  7,  8,  7,  6,  9,  8, 14,\n",
       "         21,  8, 12, 21,  7,  9, 12,  8, 14,  6, 23, 11, 12, 20, 16, 12,  7, 20,\n",
       "         11, 21, 10, 13, 16,  7, 29,  8,  6, 16, 21,  7, 11, 14,  7,  9,  4, 16,\n",
       "          7, 30,  8, 30, 16, 12,  7, 31,  9,  9, 16, 14,  9,  5, 11, 14,  7,  5,\n",
       "          6,  7, 31, 13, 13,  7, 32, 11, 10,  7, 33, 16, 16, 21, 22,  7,  3,  4,\n",
       "         16,  7,  9, 12,  8, 14,  6, 23, 11, 12, 20, 16, 12,  7, 20, 11, 21, 16,\n",
       "         13,  7,  4,  8,  6,  7, 29, 16, 16, 14,  7, 30, 12, 11, 34, 16, 21,  7,\n",
       "          9, 11,  7, 29, 16,  7,  6, 10, 30, 16, 12,  5, 11, 12,  7,  5, 14,  7,\n",
       "         17, 10,  8, 13,  5,  9, 26,  7, 23, 11, 12,  7, 20,  8, 14, 26,  7,  6,\n",
       "         16, 17, 10, 16, 14, 18, 16, 19,  9, 11, 19,  6, 16, 17, 10, 16, 14, 18,\n",
       "         16,  7, 30, 12, 11, 29, 13, 16, 20,  6,  7, 15,  4,  5, 13, 16,  7, 29,\n",
       "         16,  5, 14, 35,  7, 20, 11, 12, 16,  7, 30,  8, 12,  8, 13, 13, 16, 13,\n",
       "          5, 36,  8, 29, 13, 16, 22,  7,  3,  4, 16,  7, 14, 14, 22,  3, 12,  8,\n",
       "         14,  6, 23, 11, 12, 20, 16, 12,  7, 20, 11, 21, 10, 13, 16,  7, 12, 16,\n",
       "         13,  5, 16,  6,  7, 16, 14,  9,  5, 12, 16, 13, 26,  7, 11, 14,  7,  8,\n",
       "         14,  7,  8,  9,  9, 16, 14,  9,  5, 11, 14,  7, 20, 16, 18,  4,  8, 14,\n",
       "          5,  6, 20,  7, 37,  8, 14, 11,  9,  4, 16, 12,  7, 20, 11, 21, 10, 13,\n",
       "         16,  7, 12, 16, 18, 16, 14,  9, 13, 26,  7,  5, 20, 30, 13, 16, 20, 16,\n",
       "         14,  9, 16, 21,  7,  8,  6,  7, 14, 14, 22, 38, 10, 13,  9,  5,  4, 16,\n",
       "          8, 21, 31,  9,  9, 16, 14,  9,  5, 11, 14, 39,  7,  9, 11,  7, 21, 12,\n",
       "          8, 15,  7, 35, 13, 11, 29,  8, 13,  7, 21, 16, 30, 16, 14, 21, 16, 14,\n",
       "         18,  5, 16,  6,  7, 29, 16,  9, 15, 16, 16, 14,  7,  5, 14, 30, 10,  9,\n",
       "          7,  8, 14, 21,  7, 11, 10,  9, 30, 10,  9, 22,  7,  3,  4, 16,  7, 14,\n",
       "         14, 22,  3, 12,  8, 14,  6, 23, 11, 12, 20, 16, 12,  7, 20, 11, 21, 10,\n",
       "         13, 16,  7,  5,  6,  7, 14, 11, 15,  7,  4,  5, 35,  4, 13, 26,  7, 20,\n",
       "         11, 21, 10, 13,  8, 12,  5, 36, 16, 21,  7,  6, 10, 18,  4,  7,  9,  4,\n",
       "          8,  9,  7,  8,  7,  6,  5, 14, 35, 13, 16,  7, 18, 11, 20, 30, 11, 14,\n",
       "         16, 14,  9,  7, 37, 13,  5, 40, 16,  7, 14, 14, 22,  3, 12,  8, 14,  6,\n",
       "         23, 11, 12, 20, 16, 12, 41, 14, 18, 11, 21, 16, 12,  7,  5, 14,  7,  9,\n",
       "          4,  5,  6,  7,  9, 10,  9, 11, 12,  5,  8, 13, 39,  7, 18,  8, 14,  7,\n",
       "         29, 16,  7, 16,  8,  6,  5, 13, 26,  7,  8, 21,  8, 30,  9, 16, 21, 42,\n",
       "         18, 11, 20, 30, 11,  6, 16, 21, 22, 24, 24, 24, 24, 24,  2, 24, 35, 12,\n",
       "          5, 14, 14,  5, 14, 35,  7, 23,  8, 18, 16, 24, 43, 14,  5, 18, 11, 21,\n",
       "         16, 44,  7, 43, 45, 27, 46, 47, 48, 48, 49,  7, 43,  3, 46, 19, 50, 44,\n",
       "          7, 46, 48,  7, 51, 46,  7, 51, 50,  7, 50, 48]])"
      ]
     },
     "execution_count": 3,
     "metadata": {},
     "output_type": "execute_result"
    }
   ],
   "source": [
    "tokens_from_file(input_text)"
   ]
  },
  {
   "cell_type": "code",
   "execution_count": 4,
   "metadata": {},
   "outputs": [
    {
     "data": {
      "text/plain": [
       "'™😀Thf'"
      ]
     },
     "execution_count": 4,
     "metadata": {},
     "output_type": "execute_result"
    }
   ],
   "source": [
    "tokens_to_string([1, 2, 3, 4, 23])"
   ]
  },
  {
   "cell_type": "code",
   "execution_count": 5,
   "metadata": {},
   "outputs": [
    {
     "data": {
      "text/plain": [
       "'\\x00\\x00\\x00\\x00™😀This ™is a tutorial on how to train a sequence-to-sequence model that uses the nn.Transformer module.\\n\\nPyTorch 1.2 release includes a standard transformer module based on the paper Attention is All You Need. The transformer model has been proved to be superior in quality for many sequence-to-sequence problems while being more parallelizable. The nn.Transformer module relies entirely on an attention mechanism (another module recently implemented as nn.MultiheadAttention) to draw global dependencies between input and output. The nn.Transformer module is now highly modularized such that a single component (like nn.TransformerEncoder in this tutorial) can be easily adapted/composed.\\n\\n\\n\\n\\n😀\\ngrinning face\\nUnicode: U+1F600, UTF-8: F0 9F 98 80'"
      ]
     },
     "execution_count": 5,
     "metadata": {},
     "output_type": "execute_result"
    }
   ],
   "source": [
    "t = tokens_from_file(input_text)\n",
    "tokens_to_string(t)"
   ]
  },
  {
   "cell_type": "code",
   "execution_count": 6,
   "metadata": {},
   "outputs": [],
   "source": [
    "class PositionalEncoding(nn.Module):\n",
    "    def __init__(self, d_model, dropout=0.1, max_len=5000):\n",
    "        super(PositionalEncoding, self).__init__()\n",
    "        self.dropout = nn.Dropout(p=dropout)\n",
    "\n",
    "        pe = torch.zeros(max_len, d_model)\n",
    "        position = torch.arange(0, max_len, dtype=torch.float).unsqueeze(1)\n",
    "        div_term = torch.exp(torch.arange(0, d_model, 2).float() * (-math.log(10000.0) / d_model))\n",
    "        pe[:, 0::2] = torch.sin(position * div_term)\n",
    "        pe[:, 1::2] = torch.cos(position * div_term)\n",
    "        pe = pe.unsqueeze(0).transpose(0, 1)\n",
    "        self.register_buffer('pe', pe)\n",
    "\n",
    "    def forward(self, x):\n",
    "        x = x + self.pe[:x.size(0), :]\n",
    "        return self.dropout(x)"
   ]
  },
  {
   "cell_type": "code",
   "execution_count": 51,
   "metadata": {},
   "outputs": [
    {
     "name": "stdout",
     "output_type": "stream",
     "text": [
      "torch.Size([1, 750, 2])\n",
      "tensor([[[ 2.6182, -0.2332],\n",
      "         [ 2.6182, -0.2332],\n",
      "         [ 2.6182, -0.2332],\n",
      "         ...,\n",
      "         [-0.0075,  4.4766],\n",
      "         [ 0.6296,  1.6758],\n",
      "         [-1.1378, -2.7070]]], grad_fn=<MulBackward0>)\n",
      "torch.Size([1, 750, 2])\n"
     ]
    }
   ],
   "source": [
    "# input_x = get_embedding_from_str('    ')\n",
    "input_x = get_embedding(tokens_from_file(input_text))\n",
    "print(input_x.size())\n",
    "input_embedding = input_x * math.sqrt(EMBEDDING_SIZE)\n",
    "pe = PositionalEncoding(EMBEDDING_SIZE)\n",
    "positional_embedding = pe(input_embedding)\n",
    "\n",
    "print(positional_embedding)\n",
    "print(positional_embedding.size())"
   ]
  },
  {
   "cell_type": "code",
   "execution_count": 53,
   "metadata": {},
   "outputs": [
    {
     "data": {
      "text/plain": [
       "tensor([[0.]])"
      ]
     },
     "execution_count": 53,
     "metadata": {},
     "output_type": "execute_result"
    }
   ],
   "source": [
    "sz = 1\n",
    "src_mask = (torch.triu(torch.ones(sz, sz)) == 1).transpose(0, 1)\n",
    "src_mask = src_mask.float().masked_fill(src_mask == 0, float('-inf')).masked_fill(src_mask == 1, float(0.0))\n",
    "src_mask"
   ]
  },
  {
   "cell_type": "code",
   "execution_count": 60,
   "metadata": {},
   "outputs": [
    {
     "name": "stdout",
     "output_type": "stream",
     "text": [
      "torch.Size([1, 750, 2])\n",
      "52\n"
     ]
    }
   ],
   "source": [
    "print(positional_embedding.size())\n",
    "print(len(char_to_token))"
   ]
  },
  {
   "cell_type": "code",
   "execution_count": 61,
   "metadata": {},
   "outputs": [
    {
     "data": {
      "text/plain": [
       "tensor([[[ 0.1385, -0.2167, -0.3392,  ...,  0.8722, -0.3404, -0.2313],\n",
       "         [ 0.1385, -0.2167, -0.3392,  ...,  0.8722, -0.3404, -0.2313],\n",
       "         [ 0.1385, -0.2167, -0.3392,  ...,  0.8722, -0.3404, -0.2313],\n",
       "         ...,\n",
       "         [-1.0016,  0.4868,  0.9653,  ...,  0.4545, -0.2234,  1.4450],\n",
       "         [-1.0016,  0.4868,  0.9653,  ...,  0.4545, -0.2234,  1.4450],\n",
       "         [ 0.1385, -0.2167, -0.3392,  ...,  0.8722, -0.3404, -0.2313]]],\n",
       "       grad_fn=<AddBackward0>)"
      ]
     },
     "execution_count": 61,
     "metadata": {},
     "output_type": "execute_result"
    }
   ],
   "source": [
    "nlayers = 1\n",
    "nhead = 1\n",
    "nhid = 1\n",
    "dropout = 0\n",
    "encoder_layers = TransformerEncoderLayer(EMBEDDING_SIZE, nhead, nhid, dropout)\n",
    "transformer_encoder = TransformerEncoder(encoder_layers, nlayers)\n",
    "\n",
    "output = transformer_encoder(positional_embedding, src_mask)  # src_mask ?\n",
    "decoder = nn.Linear(EMBEDDING_SIZE, len(char_to_token))\n",
    "output = decoder(output)\n",
    "output"
   ]
  },
  {
   "cell_type": "code",
   "execution_count": null,
   "metadata": {},
   "outputs": [],
   "source": [
    "char_to_token['d']"
   ]
  },
  {
   "cell_type": "code",
   "execution_count": null,
   "metadata": {},
   "outputs": [],
   "source": [
    "a = torch.randn(10)"
   ]
  },
  {
   "cell_type": "code",
   "execution_count": null,
   "metadata": {},
   "outputs": [],
   "source": [
    "import torch.nn as nn"
   ]
  },
  {
   "cell_type": "code",
   "execution_count": null,
   "metadata": {},
   "outputs": [],
   "source": [
    "dictionary = 'abcdefghiklmnopqrstuvwxyz '\n",
    "def tokenize(s):\n",
    "    return [dictionary.index(c) for c in s]\n",
    "embed = nn.Embedding(len(dictionary), 3)\n",
    "embed(torch.LongTensor(tokenize('hello world')))"
   ]
  },
  {
   "cell_type": "code",
   "execution_count": null,
   "metadata": {},
   "outputs": [],
   "source": [
    "embed(torch.LongTensor([10]))"
   ]
  },
  {
   "cell_type": "code",
   "execution_count": null,
   "metadata": {
    "scrolled": true
   },
   "outputs": [],
   "source": [
    "embed.weight"
   ]
  },
  {
   "cell_type": "code",
   "execution_count": null,
   "metadata": {},
   "outputs": [],
   "source": [
    "torch.LongTensor([1, 2])"
   ]
  },
  {
   "cell_type": "code",
   "execution_count": null,
   "metadata": {},
   "outputs": [],
   "source": [
    "torch.LongTensor(1)"
   ]
  },
  {
   "cell_type": "code",
   "execution_count": null,
   "metadata": {},
   "outputs": [],
   "source": [
    "dictionary.index('z')"
   ]
  },
  {
   "cell_type": "code",
   "execution_count": null,
   "metadata": {},
   "outputs": [],
   "source": [
    "import math\n",
    "max_len = 8\n",
    "d_model = 4\n",
    "pe = torch.zeros(max_len, d_model)\n",
    "position = torch.arange(0, max_len, dtype=torch.float).unsqueeze(1)\n",
    "div_term = torch.exp(torch.arange(0, d_model, 2).float() * (-math.log(10000.0) / d_model))\n",
    "pe[:, 0::2] = torch.sin(position * div_term)\n",
    "pe[:, 1::2] = torch.cos(position * div_term)\n",
    "pe = pe.unsqueeze(0).transpose(0, 1)\n",
    "pe"
   ]
  },
  {
   "cell_type": "code",
   "execution_count": null,
   "metadata": {},
   "outputs": [],
   "source": []
  }
 ],
 "metadata": {
  "kernelspec": {
   "display_name": "Python 3",
   "language": "python",
   "name": "python3"
  },
  "language_info": {
   "codemirror_mode": {
    "name": "ipython",
    "version": 3
   },
   "file_extension": ".py",
   "mimetype": "text/x-python",
   "name": "python",
   "nbconvert_exporter": "python",
   "pygments_lexer": "ipython3",
   "version": "3.7.3"
  }
 },
 "nbformat": 4,
 "nbformat_minor": 2
}
